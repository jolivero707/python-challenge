{
 "cells": [
  {
   "cell_type": "code",
   "execution_count": 41,
   "metadata": {},
   "outputs": [
    {
     "name": "stdout",
     "output_type": "stream",
     "text": [
      "Total Votes: 3521001\n",
      "Khan : 63.000% 2218231\n",
      "Correy : 20.000% 704200\n",
      "Li : 14.000% 492940\n",
      "O'Tooley : 3.000% 105630\n",
      "Winner: Khan\n"
     ]
    }
   ],
   "source": [
    "# This is HW3 - Budget Case\n",
    "\n",
    "# First I have to read the data\n",
    "\n",
    "import os\n",
    "import csv\n",
    "\n",
    "csvpath = os.path.join('..', 'pyPoll', 'election_data.csv')\n",
    "\n",
    "# # Method 1: Plain Reading of CSV files\n",
    "# with open(csvpath, 'r') as file_handler:\n",
    "#     lines = file_handler.read()\n",
    "#     print(lines)\n",
    "#     print(type(lines))\n",
    "\n",
    "count = 0\n",
    "\n",
    "\n",
    "with open(csvpath, newline='') as csvfile:\n",
    "\n",
    "    # CSV reader specifies delimiter and variable that holds contents\n",
    "    csvreader = csv.reader(csvfile, delimiter=',')\n",
    "\n",
    "   # print(csvreader)\n",
    "\n",
    "    # Read the header row first (skip this step if there is now header)\n",
    "    csv_header = next(csvreader)\n",
    "    sort_src = []\n",
    "    # Read each row of data after the header\n",
    "    for row in csvreader:\n",
    "        count +=1\n",
    "        sort_src.append(row[2])\n",
    " \n",
    "    print(\"Total Votes: \" + str(count))\n",
    "    \n",
    "    seen = {}\n",
    "    for row in sort_src:\n",
    "        seen[row] = seen.get(row,0) + 1\n",
    "\n",
    "\n",
    "    for r in seen:\n",
    "            print(r,\":\",'{:.3%}'.format(seen[r]/count), + seen[r])\n",
    "    \n",
    "    newlist = list()\n",
    "    newlist2 = list()\n",
    "    for i in seen.keys():\n",
    "        newlist.append(i)\n",
    "    for i in seen.values():\n",
    "        newlist2.append(i)\n",
    "    max_vote = (max(newlist2))\n",
    "    ind_max = int((newlist2.index(max_vote)))\n",
    "    winner = newlist.pop(ind_max)\n",
    "    #print(ind_max)\n",
    "    #print(newlist)\n",
    "    #print(newlist2)\n",
    "    print(\"Winner: \" + winner)\n",
    "\n",
    "    # python /path/to/script/myscript.py > /path/to/output/myfile.txt"
   ]
  },
  {
   "cell_type": "code",
   "execution_count": null,
   "metadata": {},
   "outputs": [],
   "source": []
  },
  {
   "cell_type": "code",
   "execution_count": null,
   "metadata": {},
   "outputs": [],
   "source": []
  }
 ],
 "metadata": {
  "kernelspec": {
   "display_name": "Python 3",
   "language": "python",
   "name": "python3"
  },
  "language_info": {
   "codemirror_mode": {
    "name": "ipython",
    "version": 3
   },
   "file_extension": ".py",
   "mimetype": "text/x-python",
   "name": "python",
   "nbconvert_exporter": "python",
   "pygments_lexer": "ipython3",
   "version": "3.6.5"
  }
 },
 "nbformat": 4,
 "nbformat_minor": 2
}
