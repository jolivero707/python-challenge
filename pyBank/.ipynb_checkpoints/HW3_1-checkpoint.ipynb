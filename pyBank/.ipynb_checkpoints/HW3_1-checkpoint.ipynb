{
 "cells": [
  {
   "cell_type": "markdown",
   "metadata": {},
   "source": [
    "    "
   ]
  },
  {
   "cell_type": "code",
   "execution_count": 122,
   "metadata": {},
   "outputs": [
    {
     "name": "stdout",
     "output_type": "stream",
     "text": [
      "Financial Analysis\n",
      "___________________\n",
      "Total months : 86\n",
      "Total: $38,382,578.00\n",
      "Average Change: $-2,315.12\n",
      "Greatest Increase in Profits: Feb-2012($1,926,159.00)\n",
      "Greatest Decrease in Profits: Oct-2013($-2,196,167.00)\n"
     ]
    }
   ],
   "source": [
    "# This is HW3 - Budget Case\n",
    "\n",
    "# First I have to read the data\n",
    "\n",
    "import os\n",
    "import csv\n",
    "\n",
    "csvpath = os.path.join('..', 'pyBank', 'budget_data.csv')\n",
    "\n",
    "# # Method 1: Plain Reading of CSV files\n",
    "# with open(csvpath, 'r') as file_handler:\n",
    "#     lines = file_handler.read()\n",
    "#     print(lines)\n",
    "#     print(type(lines))\n",
    "\n",
    "count = 0\n",
    "total = 0\n",
    "revenue_changes = []\n",
    "month = []\n",
    "prev_rev = 0\n",
    "total_rev_ch = 0\n",
    "i = 0\n",
    "\n",
    "with open(csvpath, newline='') as csvfile:\n",
    "\n",
    "    # CSV reader specifies delimiter and variable that holds contents\n",
    "    csvreader = csv.reader(csvfile, delimiter=',')\n",
    "\n",
    "   # print(csvreader)\n",
    "\n",
    "    # Read the header row first (skip this step if there is now header)\n",
    "    csv_header = next(csvreader)\n",
    "    print(\"Financial Analysis\")\n",
    "    print(\"___________________\")\n",
    "    month=[]\n",
    "    # Read each row of data after the header\n",
    "    for row in csvreader:\n",
    "        month.append(row[0])\n",
    "        count +=1\n",
    "        total += float(row[1])\n",
    "        if (count == 1):\n",
    "        #    prev_rev = int(row[1])\n",
    "            revenue_changes.append(0) \n",
    "            prev_rev = int(row[1])\n",
    "        elif (count > 1):                           \n",
    "             revenue_changes.append(int(row[1]) - prev_rev)\n",
    "     #   revenue_changes =int(row[1]) - prev_rev\n",
    "             prev_rev = int(row[1])\n",
    "    \n",
    "    print(\"Total months : \" + str(count))    \n",
    "    #print(count)\n",
    "    print(\"Total: \"+ '${:,.2f}'.format(total))\n",
    "    \n",
    "    #print(total)  \n",
    "    #print(revenue_changes)\n",
    "       \n",
    "    min_rev_ch = 0\n",
    "    max_rev_ch = 0\n",
    "    ind_max = 0\n",
    "    max_month = 0\n",
    "    \n",
    "    for row in revenue_changes:\n",
    "        max_rev_ch = max(revenue_changes)\n",
    "        min_rev_ch = min(revenue_changes)\n",
    "    \n",
    "        total_rev_ch += row\n",
    "    \n",
    "    ind_max = int((revenue_changes.index(max_rev_ch)))\n",
    "    ind_min = int((revenue_changes.index(min_rev_ch)))\n",
    "    \n",
    "    #print(ind_max)\n",
    "    \n",
    "    count1 = 0\n",
    "    \n",
    "    #print(month)\n",
    "    \n",
    "   # for row in month:\n",
    "#    if row == ind_max:\n",
    "    max_month = month.pop(ind_max)\n",
    "    min_month = month.pop(ind_min)\n",
    "    #print(max_month)\n",
    "    #print(min_month)\n",
    "    \n",
    "    #print('${:,.2f}'.format(total_rev_ch))\n",
    "    #print(total_rev_ch)\n",
    "    print(\"Average Change: \" + '${:,.2f}'.format(total_rev_ch/(count-1)))\n",
    "    print(\"Greatest Increase in Profits: \" + max_month +\"(\" + '${:,.2f}'.format(max_rev_ch) +\")\" )\n",
    "    print(\"Greatest Decrease in Profits: \" + min_month +\"(\" + '${:,.2f}'.format(min_rev_ch) +\")\" )\n",
    "    #print (max_rev_ch)\n",
    "    #print (min_rev_ch)\n",
    "    "
   ]
  },
  {
   "cell_type": "code",
   "execution_count": null,
   "metadata": {},
   "outputs": [],
   "source": []
  },
  {
   "cell_type": "code",
   "execution_count": null,
   "metadata": {},
   "outputs": [],
   "source": []
  }
 ],
 "metadata": {
  "kernelspec": {
   "display_name": "Python 3",
   "language": "python",
   "name": "python3"
  },
  "language_info": {
   "codemirror_mode": {
    "name": "ipython",
    "version": 3
   },
   "file_extension": ".py",
   "mimetype": "text/x-python",
   "name": "python",
   "nbconvert_exporter": "python",
   "pygments_lexer": "ipython3",
   "version": "3.6.5"
  }
 },
 "nbformat": 4,
 "nbformat_minor": 2
}
