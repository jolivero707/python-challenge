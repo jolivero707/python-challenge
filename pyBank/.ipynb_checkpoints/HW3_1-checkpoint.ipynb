{
 "cells": [
  {
   "cell_type": "code",
   "execution_count": 115,
   "metadata": {},
   "outputs": [
    {
     "name": "stdout",
     "output_type": "stream",
     "text": [
      "<_csv.reader object at 0x00000250A691DE80>\n",
      "Financial Analysis\n",
      "86\n",
      "38382578.0\n",
      "[0, 116771, -662642, -391430, 379920, 212354, 510239, -428211, -821271, 693918, 416278, -974163, 860159, -1115009, 1033048, 95318, -308093, 99052, -521393, 605450, 231727, -65187, -702716, 177975, -1065544, 1926159, -917805, 898730, -334262, -246499, -64055, -1529236, 1497596, 304914, -635801, 398319, -183161, -37864, -253689, 403655, 94168, 306877, -83000, 210462, -2196167, 1465222, -956983, 1838447, -468003, -64602, 206242, -242155, -449079, 315198, 241099, 111540, 365942, -219310, -368665, 409837, 151210, -110244, -341938, -1212159, 683246, -70825, 335594, 417334, -272194, -236462, 657432, -211262, -128237, -1750387, 925441, 932089, -311434, 267252, -1876758, 1733696, 198551, -665765, 693229, -734926, 77242, 532869]\n",
      "$-196,785.00\n",
      "$-2,315.12\n",
      "1926159\n",
      "-2196167\n"
     ]
    }
   ],
   "source": [
    "# This is HW3 - Budget Case\n",
    "\n",
    "# First I have to read the data\n",
    "\n",
    "import os\n",
    "import csv\n",
    "\n",
    "csvpath = os.path.join('..', 'pyBank', 'budget_data.csv')\n",
    "\n",
    "# # Method 1: Plain Reading of CSV files\n",
    "# with open(csvpath, 'r') as file_handler:\n",
    "#     lines = file_handler.read()\n",
    "#     print(lines)\n",
    "#     print(type(lines))\n",
    "\n",
    "count = 0\n",
    "total = 0\n",
    "revenue_changes = []\n",
    "prev_rev = 0\n",
    "total_rev_ch = 0\n",
    "i = 0\n",
    "\n",
    "with open(csvpath, newline='') as csvfile:\n",
    "\n",
    "    # CSV reader specifies delimiter and variable that holds contents\n",
    "    csvreader = csv.reader(csvfile, delimiter=',')\n",
    "\n",
    "    print(csvreader)\n",
    "\n",
    "    # Read the header row first (skip this step if there is now header)\n",
    "    csv_header = next(csvreader)\n",
    "    print(\"Financial Analysis\")\n",
    "\n",
    "    # Read each row of data after the header\n",
    "    for row in csvreader:\n",
    "        count +=1\n",
    "        total += float(row[1])\n",
    "        if (count == 1):\n",
    "        #    prev_rev = int(row[1])\n",
    "            revenue_changes.append(0) \n",
    "            prev_rev = int(row[1])\n",
    "        elif (count > 1):                           \n",
    "             revenue_changes.append(int(row[1]) - prev_rev)\n",
    "     #   revenue_changes =int(row[1]) - prev_rev\n",
    "             prev_rev = int(row[1])\n",
    "        \n",
    "    print(count)\n",
    "    print(total)  \n",
    "    print(revenue_changes)\n",
    "    \n",
    "    min_rev_ch = 0\n",
    "    max_rev_ch = 0\n",
    "    \n",
    "    for row in revenue_changes:\n",
    "        max_rev_ch = max(revenue_changes)\n",
    "        min_rev_ch = min(revenue_changes)\n",
    "    \n",
    "        total_rev_ch += row\n",
    "    \n",
    "    \n",
    "    print('${:,.2f}'.format(total_rev_ch))\n",
    "    #print(total_rev_ch)\n",
    "    print('${:,.2f}'.format(total_rev_ch/(count-1)))\n",
    "    print (max_rev_ch)\n",
    "    print (min_rev_ch)\n",
    "    "
   ]
  },
  {
   "cell_type": "code",
   "execution_count": null,
   "metadata": {},
   "outputs": [],
   "source": []
  },
  {
   "cell_type": "code",
   "execution_count": null,
   "metadata": {},
   "outputs": [],
   "source": []
  }
 ],
 "metadata": {
  "kernelspec": {
   "display_name": "Python 3",
   "language": "python",
   "name": "python3"
  },
  "language_info": {
   "codemirror_mode": {
    "name": "ipython",
    "version": 3
   },
   "file_extension": ".py",
   "mimetype": "text/x-python",
   "name": "python",
   "nbconvert_exporter": "python",
   "pygments_lexer": "ipython3",
   "version": "3.6.5"
  }
 },
 "nbformat": 4,
 "nbformat_minor": 2
}
