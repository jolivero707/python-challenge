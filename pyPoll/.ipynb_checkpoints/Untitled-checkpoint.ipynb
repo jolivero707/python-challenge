{
 "cells": [
  {
   "cell_type": "code",
   "execution_count": 71,
   "metadata": {},
   "outputs": [
    {
     "name": "stdout",
     "output_type": "stream",
     "text": [
      "<_csv.reader object at 0x000002495FF01BA8>\n",
      "3521001\n",
      "Khan occured 2218233 times\n",
      "Correy occured 704202 times\n",
      "Li occured 492942 times\n",
      "O'Tooley occured 105632 times\n"
     ]
    }
   ],
   "source": [
    "# This is HW3 - Budget Case\n",
    "\n",
    "# First I have to read the data\n",
    "\n",
    "import os\n",
    "import csv\n",
    "\n",
    "csvpath = os.path.join('..', 'pyPoll', 'election_data.csv')\n",
    "\n",
    "# # Method 1: Plain Reading of CSV files\n",
    "# with open(csvpath, 'r') as file_handler:\n",
    "#     lines = file_handler.read()\n",
    "#     print(lines)\n",
    "#     print(type(lines))\n",
    "\n",
    "count = 0\n",
    "\n",
    "\n",
    "with open(csvpath, newline='') as csvfile:\n",
    "\n",
    "    # CSV reader specifies delimiter and variable that holds contents\n",
    "    csvreader = csv.reader(csvfile, delimiter=',')\n",
    "\n",
    "    print(csvreader)\n",
    "\n",
    "    # Read the header row first (skip this step if there is now header)\n",
    "    csv_header = next(csvreader)\n",
    "    sort_src = []\n",
    "    # Read each row of data after the header\n",
    "    for row in csvreader:\n",
    "        count +=1\n",
    "        sort_src.append(row[2])\n",
    " \n",
    "    print(count)\n",
    "    \n",
    "\n",
    "    \n",
    "    #for row1 in csvreader:\n",
    "    #     sort_src.append(row1,2)\n",
    "   \n",
    "    seen = {}\n",
    "    for row in sort_src:\n",
    "        seen[row] = seen.get(row,2) + 1\n",
    "     #    seen[row] = sort_src\n",
    "    #if the row is already in the dict then it's value is increased by 1\n",
    "    #if the row is not in the dict then .get() returns 0 (then add 1\n",
    "\n",
    "    for r in seen:\n",
    "            print(r,\"occured\",seen[r],\"times\")\n",
    "    "
   ]
  },
  {
   "cell_type": "code",
   "execution_count": null,
   "metadata": {},
   "outputs": [],
   "source": []
  },
  {
   "cell_type": "code",
   "execution_count": null,
   "metadata": {},
   "outputs": [],
   "source": []
  }
 ],
 "metadata": {
  "kernelspec": {
   "display_name": "Python 3",
   "language": "python",
   "name": "python3"
  },
  "language_info": {
   "codemirror_mode": {
    "name": "ipython",
    "version": 3
   },
   "file_extension": ".py",
   "mimetype": "text/x-python",
   "name": "python",
   "nbconvert_exporter": "python",
   "pygments_lexer": "ipython3",
   "version": "3.6.5"
  }
 },
 "nbformat": 4,
 "nbformat_minor": 2
}
